{
  "nbformat": 4,
  "nbformat_minor": 0,
  "metadata": {
    "colab": {
      "name": "pythorch_roberta_gpu_prediction.ipynb",
      "provenance": [],
      "collapsed_sections": [],
      "authorship_tag": "ABX9TyPsckaoTWGLRPLLVA1GKJUs",
      "include_colab_link": true
    },
    "kernelspec": {
      "name": "python3",
      "display_name": "Python 3"
    },
    "accelerator": "GPU"
  },
  "cells": [
    {
      "cell_type": "markdown",
      "metadata": {
        "id": "view-in-github",
        "colab_type": "text"
      },
      "source": [
        "<a href=\"https://colab.research.google.com/github/branjbar/nlp-bert-family/blob/master/pytorch/pythorch_roberta_gpu_prediction.ipynb\" target=\"_parent\"><img src=\"https://colab.research.google.com/assets/colab-badge.svg\" alt=\"Open In Colab\"/></a>"
      ]
    },
    {
      "cell_type": "code",
      "metadata": {
        "id": "vt_o8YchvJ98",
        "colab_type": "code",
        "outputId": "1880680a-9b17-445e-c3e5-2c7bd96e445f",
        "colab": {
          "base_uri": "https://localhost:8080/",
          "height": 34
        }
      },
      "source": [
        "# To avoid notebook get disconnected\n",
        "\"\"\"\n",
        "function ClickConnect(){\n",
        "console.log(\"Working\"); \n",
        "document.querySelector(\"colab-toolbar-button\").click() \n",
        "}setInterval(ClickConnect,60000)\n",
        "\"\"\"\n",
        "\n",
        "\"\"\"\n",
        "caffeinate\n",
        "\"\"\""
      ],
      "execution_count": 1,
      "outputs": [
        {
          "output_type": "execute_result",
          "data": {
            "text/plain": [
              "'\\ncaffeinate\\n'"
            ]
          },
          "metadata": {
            "tags": []
          },
          "execution_count": 1
        }
      ]
    },
    {
      "cell_type": "code",
      "metadata": {
        "id": "teCsiKGxyoPo",
        "colab_type": "code",
        "colab": {}
      },
      "source": [
        "# TODOS:\n",
        "#X add tic and toc to calculate the total time!\n",
        "## check the pretrained model\n",
        "## remove neutral from the filtering\n",
        "## check the configuraion values here: https://www.youtube.com/watch?v=2oWf4v6QEV8"
      ],
      "execution_count": 0,
      "outputs": []
    },
    {
      "cell_type": "code",
      "metadata": {
        "id": "fq6eoISVIjzL",
        "colab_type": "code",
        "colab": {}
      },
      "source": [
        "# import os\n",
        "# assert os.environ['COLAB_TPU_ADDR'], 'Make sure to select TPU from Edit > Notebook settings > Hardware accelerator'\n",
        "\n",
        "# VERSION = \"20200325\"  # @ param [\"1.5\" , \"20200325\", \"nightly\"]\n",
        "# !curl https://raw.githubusercontent.com/pytorch/xla/master/contrib/scripts/env-setup.py -o pytorch-xla-env-setup.py\n",
        "# !python pytorch-xla-env-setup.py --version $VERSION"
      ],
      "execution_count": 0,
      "outputs": []
    },
    {
      "cell_type": "code",
      "metadata": {
        "id": "MsGp6oagvLxP",
        "colab_type": "code",
        "outputId": "df8d7713-c6e8-4e79-da94-c7b4cdd64b79",
        "colab": {
          "base_uri": "https://localhost:8080/",
          "height": 496
        }
      },
      "source": [
        "from google.colab import drive\n",
        "drive.mount('/content/drive')\n",
        "\n",
        "gpu_info = !nvidia-smi\n",
        "gpu_info = '\\n'.join(gpu_info)\n",
        "if gpu_info.find('failed') >= 0:\n",
        "  print('Select the Runtime → \"Change runtime type\" menu to enable a GPU accelerator, ')\n",
        "  print('and then re-execute this cell.')\n",
        "else:\n",
        "  print(gpu_info)\n",
        "\n",
        "from psutil import virtual_memory\n",
        "ram_gb = virtual_memory().total / 1e9\n",
        "print('Your runtime has {:.1f} gigabytes of available RAM\\n'.format(ram_gb))\n",
        "\n",
        "if ram_gb < 20:\n",
        "  print('To enable a high-RAM runtime, select the Runtime → \"Change runtime type\"')\n",
        "  print('menu, and then select High-RAM in the Runtime shape dropdown. Then, ')\n",
        "  print('re-execute this cell.')\n",
        "else:\n",
        "  print('You are using a high-RAM runtime!')"
      ],
      "execution_count": 4,
      "outputs": [
        {
          "output_type": "stream",
          "text": [
            "Go to this URL in a browser: https://accounts.google.com/o/oauth2/auth?client_id=947318989803-6bn6qk8qdgf4n4g3pfee6491hc0brc4i.apps.googleusercontent.com&redirect_uri=urn%3aietf%3awg%3aoauth%3a2.0%3aoob&response_type=code&scope=email%20https%3a%2f%2fwww.googleapis.com%2fauth%2fdocs.test%20https%3a%2f%2fwww.googleapis.com%2fauth%2fdrive%20https%3a%2f%2fwww.googleapis.com%2fauth%2fdrive.photos.readonly%20https%3a%2f%2fwww.googleapis.com%2fauth%2fpeopleapi.readonly\n",
            "\n",
            "Enter your authorization code:\n",
            "··········\n",
            "Mounted at /content/drive\n",
            "Thu Apr 30 10:01:28 2020       \n",
            "+-----------------------------------------------------------------------------+\n",
            "| NVIDIA-SMI 440.64.00    Driver Version: 418.67       CUDA Version: 10.1     |\n",
            "|-------------------------------+----------------------+----------------------+\n",
            "| GPU  Name        Persistence-M| Bus-Id        Disp.A | Volatile Uncorr. ECC |\n",
            "| Fan  Temp  Perf  Pwr:Usage/Cap|         Memory-Usage | GPU-Util  Compute M. |\n",
            "|===============================+======================+======================|\n",
            "|   0  Tesla P100-PCIE...  Off  | 00000000:00:04.0 Off |                    0 |\n",
            "| N/A   37C    P0    27W / 250W |      0MiB / 16280MiB |      0%      Default |\n",
            "+-------------------------------+----------------------+----------------------+\n",
            "                                                                               \n",
            "+-----------------------------------------------------------------------------+\n",
            "| Processes:                                                       GPU Memory |\n",
            "|  GPU       PID   Type   Process name                             Usage      |\n",
            "|=============================================================================|\n",
            "|  No running processes found                                                 |\n",
            "+-----------------------------------------------------------------------------+\n",
            "Your runtime has 13.7 gigabytes of available RAM\n",
            "\n",
            "To enable a high-RAM runtime, select the Runtime → \"Change runtime type\"\n",
            "menu, and then select High-RAM in the Runtime shape dropdown. Then, \n",
            "re-execute this cell.\n"
          ],
          "name": "stdout"
        }
      ]
    },
    {
      "cell_type": "code",
      "metadata": {
        "id": "GtN-UinRIoSb",
        "colab_type": "code",
        "colab": {}
      },
      "source": [
        "# import torch\n",
        "# import torch_xla\n",
        "# import torch_xla.core.xla_model as xm\n",
        "# import torch_xla.distributed.xla_multiprocessing as xmp"
      ],
      "execution_count": 0,
      "outputs": []
    },
    {
      "cell_type": "code",
      "metadata": {
        "id": "wM-eZntGvP6E",
        "colab_type": "code",
        "outputId": "7b271dfc-cdbb-4352-a4b4-2ccedbddfd58",
        "colab": {
          "base_uri": "https://localhost:8080/",
          "height": 683
        }
      },
      "source": [
        "!pip install transformers\n",
        "import numpy as np\n",
        "import pandas as pd\n",
        "import os\n",
        "import tokenizers\n",
        "import string\n",
        "import torch\n",
        "import transformers\n",
        "import torch.nn as nn\n",
        "from torch.nn import functional as F\n",
        "from tqdm import tqdm\n",
        "import re\n",
        "from sklearn import model_selection\n",
        "from transformers import AdamW\n",
        "from transformers import get_linear_schedule_with_warmup\n",
        "import time"
      ],
      "execution_count": 6,
      "outputs": [
        {
          "output_type": "stream",
          "text": [
            "Collecting transformers\n",
            "\u001b[?25l  Downloading https://files.pythonhosted.org/packages/a3/78/92cedda05552398352ed9784908b834ee32a0bd071a9b32de287327370b7/transformers-2.8.0-py3-none-any.whl (563kB)\n",
            "\r\u001b[K     |▋                               | 10kB 22.1MB/s eta 0:00:01\r\u001b[K     |█▏                              | 20kB 3.0MB/s eta 0:00:01\r\u001b[K     |█▊                              | 30kB 4.4MB/s eta 0:00:01\r\u001b[K     |██▎                             | 40kB 2.9MB/s eta 0:00:01\r\u001b[K     |███                             | 51kB 3.6MB/s eta 0:00:01\r\u001b[K     |███▌                            | 61kB 4.2MB/s eta 0:00:01\r\u001b[K     |████                            | 71kB 4.9MB/s eta 0:00:01\r\u001b[K     |████▋                           | 81kB 3.8MB/s eta 0:00:01\r\u001b[K     |█████▎                          | 92kB 4.2MB/s eta 0:00:01\r\u001b[K     |█████▉                          | 102kB 4.7MB/s eta 0:00:01\r\u001b[K     |██████▍                         | 112kB 4.7MB/s eta 0:00:01\r\u001b[K     |███████                         | 122kB 4.7MB/s eta 0:00:01\r\u001b[K     |███████▋                        | 133kB 4.7MB/s eta 0:00:01\r\u001b[K     |████████▏                       | 143kB 4.7MB/s eta 0:00:01\r\u001b[K     |████████▊                       | 153kB 4.7MB/s eta 0:00:01\r\u001b[K     |█████████▎                      | 163kB 4.7MB/s eta 0:00:01\r\u001b[K     |█████████▉                      | 174kB 4.7MB/s eta 0:00:01\r\u001b[K     |██████████▌                     | 184kB 4.7MB/s eta 0:00:01\r\u001b[K     |███████████                     | 194kB 4.7MB/s eta 0:00:01\r\u001b[K     |███████████▋                    | 204kB 4.7MB/s eta 0:00:01\r\u001b[K     |████████████▏                   | 215kB 4.7MB/s eta 0:00:01\r\u001b[K     |████████████▉                   | 225kB 4.7MB/s eta 0:00:01\r\u001b[K     |█████████████▍                  | 235kB 4.7MB/s eta 0:00:01\r\u001b[K     |██████████████                  | 245kB 4.7MB/s eta 0:00:01\r\u001b[K     |██████████████▌                 | 256kB 4.7MB/s eta 0:00:01\r\u001b[K     |███████████████▏                | 266kB 4.7MB/s eta 0:00:01\r\u001b[K     |███████████████▊                | 276kB 4.7MB/s eta 0:00:01\r\u001b[K     |████████████████▎               | 286kB 4.7MB/s eta 0:00:01\r\u001b[K     |████████████████▉               | 296kB 4.7MB/s eta 0:00:01\r\u001b[K     |█████████████████▍              | 307kB 4.7MB/s eta 0:00:01\r\u001b[K     |██████████████████              | 317kB 4.7MB/s eta 0:00:01\r\u001b[K     |██████████████████▋             | 327kB 4.7MB/s eta 0:00:01\r\u001b[K     |███████████████████▏            | 337kB 4.7MB/s eta 0:00:01\r\u001b[K     |███████████████████▊            | 348kB 4.7MB/s eta 0:00:01\r\u001b[K     |████████████████████▍           | 358kB 4.7MB/s eta 0:00:01\r\u001b[K     |█████████████████████           | 368kB 4.7MB/s eta 0:00:01\r\u001b[K     |█████████████████████▌          | 378kB 4.7MB/s eta 0:00:01\r\u001b[K     |██████████████████████          | 389kB 4.7MB/s eta 0:00:01\r\u001b[K     |██████████████████████▊         | 399kB 4.7MB/s eta 0:00:01\r\u001b[K     |███████████████████████▎        | 409kB 4.7MB/s eta 0:00:01\r\u001b[K     |███████████████████████▉        | 419kB 4.7MB/s eta 0:00:01\r\u001b[K     |████████████████████████▍       | 430kB 4.7MB/s eta 0:00:01\r\u001b[K     |█████████████████████████       | 440kB 4.7MB/s eta 0:00:01\r\u001b[K     |█████████████████████████▋      | 450kB 4.7MB/s eta 0:00:01\r\u001b[K     |██████████████████████████▏     | 460kB 4.7MB/s eta 0:00:01\r\u001b[K     |██████████████████████████▊     | 471kB 4.7MB/s eta 0:00:01\r\u001b[K     |███████████████████████████▎    | 481kB 4.7MB/s eta 0:00:01\r\u001b[K     |████████████████████████████    | 491kB 4.7MB/s eta 0:00:01\r\u001b[K     |████████████████████████████▌   | 501kB 4.7MB/s eta 0:00:01\r\u001b[K     |█████████████████████████████   | 512kB 4.7MB/s eta 0:00:01\r\u001b[K     |█████████████████████████████▋  | 522kB 4.7MB/s eta 0:00:01\r\u001b[K     |██████████████████████████████▎ | 532kB 4.7MB/s eta 0:00:01\r\u001b[K     |██████████████████████████████▉ | 542kB 4.7MB/s eta 0:00:01\r\u001b[K     |███████████████████████████████▍| 552kB 4.7MB/s eta 0:00:01\r\u001b[K     |████████████████████████████████| 563kB 4.7MB/s eta 0:00:01\r\u001b[K     |████████████████████████████████| 573kB 4.7MB/s \n",
            "\u001b[?25hRequirement already satisfied: boto3 in /usr/local/lib/python3.6/dist-packages (from transformers) (1.12.46)\n",
            "Requirement already satisfied: dataclasses; python_version < \"3.7\" in /usr/local/lib/python3.6/dist-packages (from transformers) (0.7)\n",
            "Requirement already satisfied: filelock in /usr/local/lib/python3.6/dist-packages (from transformers) (3.0.12)\n",
            "Requirement already satisfied: regex!=2019.12.17 in /usr/local/lib/python3.6/dist-packages (from transformers) (2019.12.20)\n",
            "Collecting sacremoses\n",
            "\u001b[?25l  Downloading https://files.pythonhosted.org/packages/99/50/93509f906a40bffd7d175f97fd75ea328ad9bd91f48f59c4bd084c94a25e/sacremoses-0.0.41.tar.gz (883kB)\n",
            "\u001b[K     |████████████████████████████████| 890kB 52.5MB/s \n",
            "\u001b[?25hRequirement already satisfied: numpy in /usr/local/lib/python3.6/dist-packages (from transformers) (1.18.3)\n",
            "Requirement already satisfied: tqdm>=4.27 in /usr/local/lib/python3.6/dist-packages (from transformers) (4.38.0)\n",
            "Requirement already satisfied: requests in /usr/local/lib/python3.6/dist-packages (from transformers) (2.21.0)\n",
            "Collecting sentencepiece\n",
            "\u001b[?25l  Downloading https://files.pythonhosted.org/packages/98/2c/8df20f3ac6c22ac224fff307ebc102818206c53fc454ecd37d8ac2060df5/sentencepiece-0.1.86-cp36-cp36m-manylinux1_x86_64.whl (1.0MB)\n",
            "\u001b[K     |████████████████████████████████| 1.0MB 51.7MB/s \n",
            "\u001b[?25hCollecting tokenizers==0.5.2\n",
            "\u001b[?25l  Downloading https://files.pythonhosted.org/packages/d1/3f/73c881ea4723e43c1e9acf317cf407fab3a278daab3a69c98dcac511c04f/tokenizers-0.5.2-cp36-cp36m-manylinux1_x86_64.whl (3.7MB)\n",
            "\u001b[K     |████████████████████████████████| 3.7MB 45.9MB/s \n",
            "\u001b[?25hRequirement already satisfied: jmespath<1.0.0,>=0.7.1 in /usr/local/lib/python3.6/dist-packages (from boto3->transformers) (0.9.5)\n",
            "Requirement already satisfied: botocore<1.16.0,>=1.15.46 in /usr/local/lib/python3.6/dist-packages (from boto3->transformers) (1.15.46)\n",
            "Requirement already satisfied: s3transfer<0.4.0,>=0.3.0 in /usr/local/lib/python3.6/dist-packages (from boto3->transformers) (0.3.3)\n",
            "Requirement already satisfied: six in /usr/local/lib/python3.6/dist-packages (from sacremoses->transformers) (1.12.0)\n",
            "Requirement already satisfied: click in /usr/local/lib/python3.6/dist-packages (from sacremoses->transformers) (7.1.1)\n",
            "Requirement already satisfied: joblib in /usr/local/lib/python3.6/dist-packages (from sacremoses->transformers) (0.14.1)\n",
            "Requirement already satisfied: idna<2.9,>=2.5 in /usr/local/lib/python3.6/dist-packages (from requests->transformers) (2.8)\n",
            "Requirement already satisfied: chardet<3.1.0,>=3.0.2 in /usr/local/lib/python3.6/dist-packages (from requests->transformers) (3.0.4)\n",
            "Requirement already satisfied: urllib3<1.25,>=1.21.1 in /usr/local/lib/python3.6/dist-packages (from requests->transformers) (1.24.3)\n",
            "Requirement already satisfied: certifi>=2017.4.17 in /usr/local/lib/python3.6/dist-packages (from requests->transformers) (2020.4.5.1)\n",
            "Requirement already satisfied: python-dateutil<3.0.0,>=2.1 in /usr/local/lib/python3.6/dist-packages (from botocore<1.16.0,>=1.15.46->boto3->transformers) (2.8.1)\n",
            "Requirement already satisfied: docutils<0.16,>=0.10 in /usr/local/lib/python3.6/dist-packages (from botocore<1.16.0,>=1.15.46->boto3->transformers) (0.15.2)\n",
            "Building wheels for collected packages: sacremoses\n",
            "  Building wheel for sacremoses (setup.py) ... \u001b[?25l\u001b[?25hdone\n",
            "  Created wheel for sacremoses: filename=sacremoses-0.0.41-cp36-none-any.whl size=893334 sha256=15f7c20e4786a8a9a9bb75d5b15bd6c5ff3625874885588fbaab05f405f2903b\n",
            "  Stored in directory: /root/.cache/pip/wheels/22/5a/d4/b020a81249de7dc63758a34222feaa668dbe8ebfe9170cc9b1\n",
            "Successfully built sacremoses\n",
            "Installing collected packages: sacremoses, sentencepiece, tokenizers, transformers\n",
            "Successfully installed sacremoses-0.0.41 sentencepiece-0.1.86 tokenizers-0.5.2 transformers-2.8.0\n"
          ],
          "name": "stdout"
        }
      ]
    },
    {
      "cell_type": "code",
      "metadata": {
        "id": "pqU8gplkvcHF",
        "colab_type": "code",
        "colab": {}
      },
      "source": [
        "KAGGLE_INPUT_PATH = \"../input/\"\n",
        "COLAB_INPUT_PATH = \"/content/drive/My Drive/input/\"\n",
        "INPUT_PATH = COLAB_INPUT_PATH\n",
        "\n",
        "DATA_PATH = INPUT_PATH + \"tweet-sentiment-extraction/\"\n",
        "CHECKPOINT_PATH = INPUT_PATH + \"model_checkpoint/roberta/\"\n",
        "CHECKPOINT_PATH_TORCH = INPUT_PATH + \"model_checkpoint/roberta/torch/\"\n",
        "# ROBERTA_PATH = INPUT_PATH + 'models/output_twitter/'\n",
        "ROBERTA_PATH = INPUT_PATH + 'models/roberta-base/'\n",
        "\n",
        "VER='tpu-v1'"
      ],
      "execution_count": 0,
      "outputs": []
    },
    {
      "cell_type": "code",
      "metadata": {
        "id": "2AIiU0Wt_ZPe",
        "colab_type": "code",
        "colab": {}
      },
      "source": [
        "def print_to_file(text):\n",
        "  try:\n",
        "    f = open(CHECKPOINT_PATH_TORCH + VER + \"-logs.txt\", 'a')\n",
        "  except:\n",
        "    f = open(CHECKPOINT_PATH_TORCH + VER + \"-logs.txt\", 'w')\n",
        "\n",
        "  print(text)\n",
        "  f.write(time.strftime(\"%Y%m%d-%H%M%S\"))\n",
        "  f.write(\"  -- \")\n",
        "  f.write(text)\n",
        "  f.write(\"\\n\")\n",
        "\n",
        "class Timer(object):\n",
        "    def __init__(self, name=None):\n",
        "        self.name = name\n",
        "\n",
        "    def __enter__(self):\n",
        "        self.tstart = time.time()\n",
        "\n",
        "    def __exit__(self, type, value, traceback):\n",
        "        if self.name:\n",
        "            print_to_file('[%s]' % self.name,)\n",
        "        print_to_file('Elapsed: %.2fmin' % ((time.time() - self.tstart)/60))\n",
        "\n",
        "def jaccard(str1, str2): \n",
        "\n",
        "    a = set(str(str1).lower().split()) \n",
        "    b = set(str(str2).lower().split())\n",
        "\n",
        "    c = a.intersection(b)\n",
        "\n",
        "    if (len(a) + len(b) - len(c)) > 0:\n",
        "      return float(len(c)) / (len(a) + len(b) - len(c))\n",
        "    else:\n",
        "      return 0"
      ],
      "execution_count": 0,
      "outputs": []
    },
    {
      "cell_type": "code",
      "metadata": {
        "id": "36CILOlkvNXs",
        "colab_type": "code",
        "colab": {}
      },
      "source": [
        "########## CONFIG #####################\n",
        "class config():\n",
        "    \"\"\"\n",
        "    basic configuration of the model/training\n",
        "    \"\"\"\n",
        "    MAX_LEN = 192\n",
        "    TRAIN_BATCH_SIZE = 32\n",
        "    VALID_BATCH_SIZE = 8\n",
        "    EPOCHS = 3\n",
        "    DEVICE = torch.device(\"cuda\")\n",
        "    # DEVICE = xm.xla_device()\n",
        "    TOKENIZER = tokenizers.ByteLevelBPETokenizer(\n",
        "        vocab_file=f\"{ROBERTA_PATH}/vocab.json\", \n",
        "        merges_file=f\"{ROBERTA_PATH}/merges.txt\", \n",
        "        lowercase=True,\n",
        "        add_prefix_space=True\n",
        "        )"
      ],
      "execution_count": 0,
      "outputs": []
    },
    {
      "cell_type": "code",
      "metadata": {
        "id": "4JNXy5AuwyuG",
        "colab_type": "code",
        "colab": {}
      },
      "source": [
        "class TweetModel(transformers.BertPreTrainedModel):\n",
        "    def __init__(self, conf):\n",
        "        super(TweetModel, self).__init__(conf)\n",
        "        self.roberta = transformers.RobertaModel.from_pretrained(ROBERTA_PATH, config=conf)\n",
        "        self.drop_out = nn.Dropout(0.1)\n",
        "        self.l0 = nn.Linear(768 * 2, 2)\n",
        "        torch.nn.init.normal_(self.l0.weight, std=0.02)\n",
        "    \n",
        "    def forward(self, ids, mask, token_type_ids):\n",
        "        _, _, out = self.roberta(\n",
        "            ids,\n",
        "            attention_mask=mask,\n",
        "            token_type_ids=token_type_ids\n",
        "        )\n",
        "\n",
        "        out = torch.cat((out[-1], out[-2]), dim=-1)\n",
        "        out = self.drop_out(out)\n",
        "        logits = self.l0(out)\n",
        "\n",
        "        start_logits, end_logits = logits.split(1, dim=-1)\n",
        "\n",
        "        start_logits = start_logits.squeeze(-1)\n",
        "        end_logits = end_logits.squeeze(-1)\n",
        "\n",
        "        return start_logits, end_logits"
      ],
      "execution_count": 0,
      "outputs": []
    },
    {
      "cell_type": "code",
      "metadata": {
        "id": "br0GKWZ9w2M-",
        "colab_type": "code",
        "colab": {}
      },
      "source": [
        "def process_data(tweet, selected_text, sentiment, tokenizer, max_len):\n",
        "    tweet = \" \" + \" \".join(str(tweet).split())\n",
        "    selected_text = \" \" + \" \".join(str(selected_text).split())\n",
        "\n",
        "    len_st = len(selected_text) - 1\n",
        "    idx0 = None\n",
        "    idx1 = None\n",
        "\n",
        "    for ind in (i for i, e in enumerate(tweet) if e == selected_text[1]):\n",
        "        if \" \" + tweet[ind: ind+len_st] == selected_text:\n",
        "            idx0 = ind\n",
        "            idx1 = ind + len_st - 1\n",
        "            break\n",
        "\n",
        "    char_targets = [0] * len(tweet)\n",
        "    if idx0 != None and idx1 != None:\n",
        "        for ct in range(idx0, idx1 + 1):\n",
        "            char_targets[ct] = 1\n",
        "    \n",
        "    tok_tweet = tokenizer.encode(tweet)\n",
        "    input_ids_orig = tok_tweet.ids\n",
        "    tweet_offsets = tok_tweet.offsets\n",
        "    \n",
        "    target_idx = []\n",
        "    for j, (offset1, offset2) in enumerate(tweet_offsets):\n",
        "        if sum(char_targets[offset1: offset2]) > 0:\n",
        "            target_idx.append(j)\n",
        "    \n",
        "    targets_start = target_idx[0]\n",
        "    targets_end = target_idx[-1]\n",
        "\n",
        "    sentiment_id = {\n",
        "        'positive': 1313,\n",
        "        'negative': 2430,\n",
        "        'neutral': 7974\n",
        "    }\n",
        "    \n",
        "    input_ids = [0] + [sentiment_id[sentiment]] + [2] + [2] + input_ids_orig + [2]\n",
        "    token_type_ids = [0, 0, 0, 0] + [0] * (len(input_ids_orig) + 1)\n",
        "    mask = [1] * len(token_type_ids)\n",
        "    tweet_offsets = [(0, 0)] * 4 + tweet_offsets + [(0, 0)]\n",
        "    targets_start += 4\n",
        "    targets_end += 4\n",
        "\n",
        "    padding_length = max_len - len(input_ids)\n",
        "    if padding_length > 0:\n",
        "        input_ids = input_ids + ([1] * padding_length)\n",
        "        mask = mask + ([0] * padding_length)\n",
        "        token_type_ids = token_type_ids + ([0] * padding_length)\n",
        "        tweet_offsets = tweet_offsets + ([(0, 0)] * padding_length)\n",
        "    \n",
        "    return {\n",
        "        'ids': input_ids,\n",
        "        'mask': mask,\n",
        "        'token_type_ids': token_type_ids,\n",
        "        'targets_start': targets_start,\n",
        "        'targets_end': targets_end,\n",
        "        'orig_tweet': tweet,\n",
        "        'orig_selected': selected_text,\n",
        "        'sentiment': sentiment,\n",
        "        'offsets': tweet_offsets\n",
        "    }\n",
        "\n",
        "\n",
        "class TweetDataset:\n",
        "    def __init__(self, tweet, sentiment, selected_text):\n",
        "        self.tweet = tweet\n",
        "        self.sentiment = sentiment\n",
        "        self.selected_text = selected_text\n",
        "        self.tokenizer = config.TOKENIZER\n",
        "        self.max_len = config.MAX_LEN\n",
        "    \n",
        "    def __len__(self):\n",
        "        return len(self.tweet)\n",
        "\n",
        "    def __getitem__(self, item):\n",
        "        data = process_data(\n",
        "            self.tweet[item], \n",
        "            self.selected_text[item], \n",
        "            self.sentiment[item],\n",
        "            self.tokenizer,\n",
        "            self.max_len\n",
        "        )\n",
        "\n",
        "        return {\n",
        "            'ids': torch.tensor(data[\"ids\"], dtype=torch.long),\n",
        "            'mask': torch.tensor(data[\"mask\"], dtype=torch.long),\n",
        "            'token_type_ids': torch.tensor(data[\"token_type_ids\"], dtype=torch.long),\n",
        "            'targets_start': torch.tensor(data[\"targets_start\"], dtype=torch.long),\n",
        "            'targets_end': torch.tensor(data[\"targets_end\"], dtype=torch.long),\n",
        "            'orig_tweet': data[\"orig_tweet\"],\n",
        "            'orig_selected': data[\"orig_selected\"],\n",
        "            'sentiment': data[\"sentiment\"],\n",
        "            'offsets': torch.tensor(data[\"offsets\"], dtype=torch.long)\n",
        "        }"
      ],
      "execution_count": 0,
      "outputs": []
    },
    {
      "cell_type": "code",
      "metadata": {
        "id": "y95k4WQbw4c-",
        "colab_type": "code",
        "colab": {}
      },
      "source": [
        "def calculate_jaccard_score(\n",
        "    original_tweet, \n",
        "    target_string, \n",
        "    sentiment_val, \n",
        "    idx_start, \n",
        "    idx_end, \n",
        "    offsets,\n",
        "    verbose=False):\n",
        "    \n",
        "    if idx_end < idx_start:\n",
        "        idx_end = idx_start\n",
        "    \n",
        "    filtered_output  = \"\"\n",
        "    for ix in range(idx_start, idx_end + 1):\n",
        "        filtered_output += original_tweet[offsets[ix][0]: offsets[ix][1]]\n",
        "        if (ix+1) < len(offsets) and offsets[ix][1] < offsets[ix+1][0]:\n",
        "            filtered_output += \" \"\n",
        "\n",
        "    if len(original_tweet.split()) < 2:\n",
        "        filtered_output = original_tweet\n",
        "\n",
        "    if sentiment_val != \"neutral\" and verbose == True:\n",
        "        if filtered_output.strip().lower() != target_string.strip().lower():\n",
        "            print(\"********************************\")\n",
        "            print(f\"Output= {filtered_output.strip()}\")\n",
        "            print(f\"Target= {target_string.strip()}\")\n",
        "            print(f\"Tweet= {original_tweet.strip()}\")\n",
        "            print(\"********************************\")\n",
        "\n",
        "    jac = jaccard(target_string.strip(), filtered_output.strip())\n",
        "    return jac, filtered_output"
      ],
      "execution_count": 0,
      "outputs": []
    },
    {
      "cell_type": "code",
      "metadata": {
        "id": "Yj0l_qwbw6de",
        "colab_type": "code",
        "colab": {}
      },
      "source": [
        "train_df = pd.read_csv(DATA_PATH + 'train.csv').dropna().reset_index()#.sample(n=2000).reset_index()\n",
        "df_test = pd.read_csv(DATA_PATH + 'test.csv')\n",
        "df_test.loc[:, \"selected_text\"] = df_test.text.values"
      ],
      "execution_count": 0,
      "outputs": []
    },
    {
      "cell_type": "code",
      "metadata": {
        "id": "L-QEvq5hE_0U",
        "colab_type": "code",
        "colab": {}
      },
      "source": [
        "model_config = transformers.RobertaConfig.from_pretrained(ROBERTA_PATH)\n",
        "model_config.output_hidden_states = True"
      ],
      "execution_count": 0,
      "outputs": []
    },
    {
      "cell_type": "code",
      "metadata": {
        "id": "s19xDCZRxEJs",
        "colab_type": "code",
        "outputId": "21a7a5a6-a363-4435-ed18-f4fbb65aa3b1",
        "colab": {
          "base_uri": "https://localhost:8080/",
          "height": 102
        }
      },
      "source": [
        "# %%capture\n",
        "\n",
        "model_list = []\n",
        "for i in range(5):\n",
        "    print(\"loading model %i\"%i)\n",
        "    model = TweetModel(conf=model_config)\n",
        "    model.to(config.DEVICE)\n",
        "    model.load_state_dict(torch.load(CHECKPOINT_PATH_TORCH + '%s-roberta-%i.bin'%(VER,i)))\n",
        "    model.eval()\n",
        "    \n",
        "    model_list.append(model)\n"
      ],
      "execution_count": 16,
      "outputs": [
        {
          "output_type": "stream",
          "text": [
            "loading model 0\n",
            "loading model 1\n",
            "loading model 2\n",
            "loading model 3\n",
            "loading model 4\n"
          ],
          "name": "stdout"
        }
      ]
    },
    {
      "cell_type": "code",
      "metadata": {
        "id": "z7IsaDpCj0nw",
        "colab_type": "code",
        "colab": {}
      },
      "source": [
        "fold_ids = []\n",
        "num_folds = 5\n",
        "\n",
        "kfold = model_selection.KFold(n_splits=num_folds, shuffle=True, random_state=42)\n",
        "for fold_num, (train_idx, valid_idx) in enumerate(kfold.split(train_df.text)):\n",
        "    fold_ids.append((train_idx, valid_idx))"
      ],
      "execution_count": 0,
      "outputs": []
    },
    {
      "cell_type": "markdown",
      "metadata": {
        "id": "hMhZZzRij5Ki",
        "colab_type": "text"
      },
      "source": [
        "# DEV EVALUATION\n"
      ]
    },
    {
      "cell_type": "code",
      "metadata": {
        "id": "S7e7R1_9j8LH",
        "colab_type": "code",
        "colab": {
          "base_uri": "https://localhost:8080/",
          "height": 102
        },
        "outputId": "887d0ac8-ae5a-417b-e94c-de1936fdf011"
      },
      "source": [
        "\n",
        "with torch.no_grad():\n",
        "\n",
        "    for fold_num in range(len(model_list)):\n",
        "        print(\"Evaluation for Fold %i\" % fold_num)\n",
        "        final_output = []\n",
        "        jacc_list = []\n",
        "        \n",
        "        valid_idx = fold_ids[fold_num][1]\n",
        "        valid_df_fold = train_df.loc[valid_idx]\n",
        "\n",
        "        valid_dataset = TweetDataset(\n",
        "                tweet=valid_df_fold.text.values,\n",
        "                sentiment=valid_df_fold.sentiment.values,\n",
        "                selected_text=valid_df_fold.selected_text.values\n",
        "            )\n",
        "\n",
        "        data_loader = torch.utils.data.DataLoader(\n",
        "            valid_dataset,\n",
        "            shuffle=False,\n",
        "            batch_size=config.VALID_BATCH_SIZE,\n",
        "            num_workers=1\n",
        "        )\n",
        "\n",
        "        for d in tqdm(data_loader, total=len(data_loader), position=0, leave=True):\n",
        "            ids = d[\"ids\"]\n",
        "            token_type_ids = d[\"token_type_ids\"]\n",
        "            mask = d[\"mask\"]\n",
        "            sentiment = d[\"sentiment\"]\n",
        "            orig_selected = d[\"orig_selected\"]\n",
        "            orig_tweet = d[\"orig_tweet\"]\n",
        "            targets_start = d[\"targets_start\"]\n",
        "            targets_end = d[\"targets_end\"]\n",
        "            offsets = d[\"offsets\"].numpy()\n",
        "\n",
        "            ids = ids.to(config.DEVICE, dtype=torch.long)\n",
        "            token_type_ids = token_type_ids.to(config.DEVICE, dtype=torch.long)\n",
        "            mask = mask.to(config.DEVICE, dtype=torch.long)\n",
        "            targets_start = targets_start.to(config.DEVICE, dtype=torch.long)\n",
        "            targets_end = targets_end.to(config.DEVICE, dtype=torch.long)\n",
        "\n",
        "\n",
        "    \n",
        "            outputs_start, outputs_end = model_list[fold_num](\n",
        "                ids=ids,\n",
        "                mask=mask,\n",
        "                token_type_ids=token_type_ids\n",
        "            )\n",
        "\n",
        "            outputs_start = torch.softmax(outputs_start, dim=1).cpu().detach().numpy()\n",
        "            outputs_end = torch.softmax(outputs_end, dim=1).cpu().detach().numpy()\n",
        "            jaccard_scores = []\n",
        "            for px, tweet in enumerate(orig_tweet):\n",
        "                selected_tweet = orig_selected[px]\n",
        "                tweet_sentiment = sentiment[px]\n",
        "                jacc, output_sentence = calculate_jaccard_score(\n",
        "                    original_tweet=tweet,\n",
        "                    target_string=selected_tweet,\n",
        "                    sentiment_val=tweet_sentiment,\n",
        "                    idx_start=np.argmax(outputs_start[px, :]),\n",
        "                    idx_end=np.argmax(outputs_end[px, :]),\n",
        "                    offsets=offsets[px]\n",
        "                )\n",
        "                final_output.append(output_sentence)\n",
        "                jacc_list.append(jacc)\n",
        "        train_df.loc[valid_idx,\"pred\"] = final_output\n",
        "        train_df.loc[valid_idx,\"jacc\"] = jacc_list\n"
      ],
      "execution_count": 0,
      "outputs": [
        {
          "output_type": "stream",
          "text": [
            "100%|██████████| 687/687 [00:37<00:00, 18.53it/s]\n",
            "100%|██████████| 687/687 [00:37<00:00, 18.43it/s]\n",
            "100%|██████████| 687/687 [00:37<00:00, 18.55it/s]\n",
            "100%|██████████| 687/687 [00:37<00:00, 18.54it/s]\n",
            " 31%|███       | 213/687 [00:11<00:25, 18.40it/s]"
          ],
          "name": "stderr"
        }
      ]
    },
    {
      "cell_type": "markdown",
      "metadata": {
        "id": "nm2CzpY6j3GH",
        "colab_type": "text"
      },
      "source": [
        "# TEST PREDICTION"
      ]
    },
    {
      "cell_type": "code",
      "metadata": {
        "id": "qvRnf0rwxbya",
        "colab_type": "code",
        "outputId": "9eaf701f-19a3-4c0e-c1b9-e7b871610e4b",
        "colab": {
          "base_uri": "https://localhost:8080/",
          "height": 34
        }
      },
      "source": [
        "test_dataset = TweetDataset(\n",
        "        tweet=df_test.text.values,\n",
        "        sentiment=df_test.sentiment.values,\n",
        "        selected_text=df_test.selected_text.values\n",
        "    )\n",
        "\n",
        "data_loader = torch.utils.data.DataLoader(\n",
        "    test_dataset,\n",
        "    shuffle=False,\n",
        "    batch_size=config.VALID_BATCH_SIZE,\n",
        "    num_workers=1\n",
        ")\n",
        "\n",
        "final_output = []\n",
        "with torch.no_grad():\n",
        "    for d in tqdm(data_loader, total=len(data_loader), position=0, leave=True):\n",
        "        ids = d[\"ids\"]\n",
        "        token_type_ids = d[\"token_type_ids\"]\n",
        "        mask = d[\"mask\"]\n",
        "        sentiment = d[\"sentiment\"]\n",
        "        orig_selected = d[\"orig_selected\"]\n",
        "        orig_tweet = d[\"orig_tweet\"]\n",
        "        targets_start = d[\"targets_start\"]\n",
        "        targets_end = d[\"targets_end\"]\n",
        "        offsets = d[\"offsets\"].numpy()\n",
        "\n",
        "        ids = ids.to(config.DEVICE, dtype=torch.long)\n",
        "        token_type_ids = token_type_ids.to(config.DEVICE, dtype=torch.long)\n",
        "        mask = mask.to(config.DEVICE, dtype=torch.long)\n",
        "        targets_start = targets_start.to(config.DEVICE, dtype=torch.long)\n",
        "        targets_end = targets_end.to(config.DEVICE, dtype=torch.long)\n",
        "\n",
        "        for i in range(len(model_list)):\n",
        "            outputs_start1, outputs_end1 = model_list[i](\n",
        "                ids=ids,\n",
        "                mask=mask,\n",
        "                token_type_ids=token_type_ids\n",
        "            )\n",
        "            try:\n",
        "                outputs_start += outputs_start1\n",
        "                outputs_end += outputs_end1\n",
        "            except:\n",
        "                outputs_start = outputs_start1\n",
        "                outputs_end = outputs_end1\n",
        "\n",
        "\n",
        "            outputs_start /= 8\n",
        "            outputs_end /= 8\n",
        "\n",
        "        outputs_start = torch.softmax(outputs_start, dim=1).cpu().detach().numpy()\n",
        "        outputs_end = torch.softmax(outputs_end, dim=1).cpu().detach().numpy()\n",
        "        jaccard_scores = []\n",
        "        for px, tweet in enumerate(orig_tweet):\n",
        "            selected_tweet = orig_selected[px]\n",
        "            tweet_sentiment = sentiment[px]\n",
        "            _, output_sentence = calculate_jaccard_score(\n",
        "                original_tweet=tweet,\n",
        "                target_string=selected_tweet,\n",
        "                sentiment_val=tweet_sentiment,\n",
        "                idx_start=np.argmax(outputs_start[px, :]),\n",
        "                idx_end=np.argmax(outputs_end[px, :]),\n",
        "                offsets=offsets[px]\n",
        "            )\n",
        "            final_output.append(output_sentence)"
      ],
      "execution_count": 18,
      "outputs": [
        {
          "output_type": "stream",
          "text": [
            "100%|██████████| 442/442 [01:50<00:00,  4.00it/s]\n"
          ],
          "name": "stderr"
        }
      ]
    },
    {
      "cell_type": "code",
      "metadata": {
        "id": "wz4BVBUaxIz9",
        "colab_type": "code",
        "colab": {}
      },
      "source": [
        "df_test['selected_text'] = final_output\n",
        "\n",
        "df_test['selected_text'] = df_test['selected_text'].apply(lambda x: x.replace('!!!!', '!') if len(x.split())==1 else x)\n",
        "df_test['selected_text'] = df_test['selected_text'].apply(lambda x: x.replace('..', '.') if len(x.split())==1 else x)\n",
        "df_test['selected_text'] = df_test['selected_text'].apply(lambda x: x.replace('...', '.') if len(x.split())==1 else x)\n",
        "\n",
        "df_test[['textID','selected_text']].to_csv(DATA_PATH + 'submission-%s.csv'%VER, index=False)"
      ],
      "execution_count": 0,
      "outputs": []
    },
    {
      "cell_type": "code",
      "metadata": {
        "id": "4wpRKVfSWWN2",
        "colab_type": "code",
        "outputId": "27f70290-fbcb-4eb1-ec16-25201fdb0955",
        "colab": {
          "base_uri": "https://localhost:8080/",
          "height": 204
        }
      },
      "source": [
        "df_test.head()"
      ],
      "execution_count": 20,
      "outputs": [
        {
          "output_type": "execute_result",
          "data": {
            "text/html": [
              "<div>\n",
              "<style scoped>\n",
              "    .dataframe tbody tr th:only-of-type {\n",
              "        vertical-align: middle;\n",
              "    }\n",
              "\n",
              "    .dataframe tbody tr th {\n",
              "        vertical-align: top;\n",
              "    }\n",
              "\n",
              "    .dataframe thead th {\n",
              "        text-align: right;\n",
              "    }\n",
              "</style>\n",
              "<table border=\"1\" class=\"dataframe\">\n",
              "  <thead>\n",
              "    <tr style=\"text-align: right;\">\n",
              "      <th></th>\n",
              "      <th>textID</th>\n",
              "      <th>text</th>\n",
              "      <th>sentiment</th>\n",
              "      <th>selected_text</th>\n",
              "    </tr>\n",
              "  </thead>\n",
              "  <tbody>\n",
              "    <tr>\n",
              "      <th>0</th>\n",
              "      <td>f87dea47db</td>\n",
              "      <td>Last session of the day  http://twitpic.com/67ezh</td>\n",
              "      <td>neutral</td>\n",
              "      <td>Last session of the day</td>\n",
              "    </tr>\n",
              "    <tr>\n",
              "      <th>1</th>\n",
              "      <td>96d74cb729</td>\n",
              "      <td>Shanghai is also really exciting (precisely -...</td>\n",
              "      <td>positive</td>\n",
              "      <td>exciting</td>\n",
              "    </tr>\n",
              "    <tr>\n",
              "      <th>2</th>\n",
              "      <td>eee518ae67</td>\n",
              "      <td>Recession hit Veronique Branquinho, she has to...</td>\n",
              "      <td>negative</td>\n",
              "      <td>such a shame!</td>\n",
              "    </tr>\n",
              "    <tr>\n",
              "      <th>3</th>\n",
              "      <td>01082688c6</td>\n",
              "      <td>happy bday!</td>\n",
              "      <td>positive</td>\n",
              "      <td>happy bday!</td>\n",
              "    </tr>\n",
              "    <tr>\n",
              "      <th>4</th>\n",
              "      <td>33987a8ee5</td>\n",
              "      <td>http://twitpic.com/4w75p - I like it!!</td>\n",
              "      <td>positive</td>\n",
              "      <td>I like</td>\n",
              "    </tr>\n",
              "  </tbody>\n",
              "</table>\n",
              "</div>"
            ],
            "text/plain": [
              "       textID  ...             selected_text\n",
              "0  f87dea47db  ...   Last session of the day\n",
              "1  96d74cb729  ...                  exciting\n",
              "2  eee518ae67  ...             such a shame!\n",
              "3  01082688c6  ...               happy bday!\n",
              "4  33987a8ee5  ...                    I like\n",
              "\n",
              "[5 rows x 4 columns]"
            ]
          },
          "metadata": {
            "tags": []
          },
          "execution_count": 20
        }
      ]
    },
    {
      "cell_type": "code",
      "metadata": {
        "id": "o2TZdYj5jBcH",
        "colab_type": "code",
        "colab": {}
      },
      "source": [
        ""
      ],
      "execution_count": 0,
      "outputs": []
    }
  ]
}